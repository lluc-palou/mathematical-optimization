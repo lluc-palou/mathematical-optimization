{
 "cells": [
  {
   "attachments": {},
   "cell_type": "markdown",
   "metadata": {},
   "source": [
    "# Imports & settings"
   ]
  },
  {
   "cell_type": "code",
   "execution_count": 11,
   "metadata": {},
   "outputs": [],
   "source": [
    "import numpy as np\n",
    "import os\n",
    "import re"
   ]
  },
  {
   "cell_type": "code",
   "execution_count": 12,
   "metadata": {},
   "outputs": [],
   "source": [
    "def load_generated_data(file_path):\n",
    "    \"\"\"\n",
    "    Given a path to a .dat file containing the generated training dataset for our (SVM) classifier, this function\n",
    "    loads the generated data in order to adapt it to AMPL optimization problem solver input.\n",
    "    \"\"\"\n",
    "\n",
    "    # Data structures initialization.\n",
    "    data = []\n",
    "    labels = []\n",
    "    test_labels = []\n",
    "    \n",
    "    # Reads the file and processes it.\n",
    "    with open(file_path, 'r') as file:\n",
    "        # Reads each line of the dataset.\n",
    "        for line in file:\n",
    "            line = line.strip()\n",
    "            values = line.split()\n",
    "            \n",
    "            # Extracts the samples.\n",
    "            point = [float(value) for value in values[:4]]\n",
    "            data.append(point)\n",
    "            \n",
    "            # Extracts the sample label.\n",
    "            label = float(values[4].rstrip('*'))\n",
    "            labels.append(label)\n",
    "    \n",
    "    # Converts the data to numpy arrays.\n",
    "    A = np.array(data)\n",
    "    y = np.array(labels)\n",
    "    \n",
    "    return A, y"
   ]
  },
  {
   "cell_type": "code",
   "execution_count": 13,
   "metadata": {},
   "outputs": [],
   "source": [
    "def generated_data_to_AMPL(file_path, A, y, train=True):\n",
    "    \"\"\"\n",
    "    Given a path to a new file, the A matrix (samples), and the y vector (labels), this function generates \n",
    "    the code to express these mathematical objects in AMPL format and stores them in a .dat file.\n",
    "    \"\"\"\n",
    "\n",
    "    # Number of samples and features.\n",
    "    m, n = A.shape  \n",
    "\n",
    "    with open(file_path, 'w') as file:\n",
    "        if train:\n",
    "            file.write(\"param nu := 1;\\n\")\n",
    "            file.write(\"param m := {};\\n\".format(m))\n",
    "            file.write(\"param n := {};\\n\".format(n))\n",
    "            file.write(\"\\n\")\n",
    "\n",
    "            file.write(\"param A_train:\\n\")\n",
    "            file.write(\"\\t\")\n",
    "            file.write(\"\\t\".join(\"{}\".format(i+1) for i in range(n)))\n",
    "            file.write(\" :=\\n\")\n",
    "\n",
    "            for i in range(m):\n",
    "                file.write(\"\\t\")\n",
    "                file.write(str(i+1))\n",
    "                file.write(\"\\t\")\n",
    "                file.write(\"\\t\".join(\"{:.3f}\".format(A[i][j]) for j in range(n)))\n",
    "                file.write(\"\\n\")\n",
    "\n",
    "            file.write(\";\\n\")\n",
    "            file.write(\"\\n\")\n",
    "\n",
    "            file.write(\"param y_train :=\")\n",
    "            for i in range(m):\n",
    "                file.write(\"\\n\\t{} {:.3f}\".format(i + 1, y[i]))\n",
    "\n",
    "            file.write(\"\\n;\")\n",
    "\n",
    "        else:\n",
    "            file.write(\"param A_test:\\n\")\n",
    "            file.write(\"\\t\")\n",
    "            file.write(\"\\t\".join(\"{}\".format(i+1) for i in range(n)))\n",
    "            file.write(\" :=\\n\")\n",
    "\n",
    "            for i in range(m):\n",
    "                file.write(\"\\t\")\n",
    "                file.write(str(i+1))\n",
    "                file.write(\"\\t\")\n",
    "                file.write(\"\\t\".join(\"{:.3f}\".format(A[i][j]) for j in range(n)))\n",
    "                file.write(\"\\n\")\n",
    "\n",
    "            file.write(\";\\n\")\n",
    "            file.write(\"\\n\")\n",
    "\n",
    "            file.write(\"param y_test :=\")\n",
    "            for i in range(m):\n",
    "                file.write(\"\\n\\t{} {:.3f}\".format(i + 1, y[i]))\n",
    "\n",
    "            file.write(\"\\n;\")"
   ]
  },
  {
   "cell_type": "code",
   "execution_count": 14,
   "metadata": {},
   "outputs": [],
   "source": [
    "def process_generated_data(file_path, train=True):\n",
    "    \"\"\"\n",
    "    This function applies the above functions, hence, loads generated data and processes it in order to be represented in AMPL format, \n",
    "    finally saves this data in a .dat file that can be used as input for the AMPL optimization problem solver.\n",
    "    \"\"\"\n",
    "\n",
    "    # Loads the generated data.\n",
    "    A, y = load_generated_data(file_path)\n",
    "\n",
    "    # Output file containing the training generated data, corresponds to the\n",
    "    # input data of the AMPL optimization problem to solve.\n",
    "    base_filename = os.path.basename(file_path)\n",
    "    match = re.search(r'\\d+', base_filename)\n",
    "\n",
    "    if match:\n",
    "        last_number = match.group()\n",
    "        if train:\n",
    "            output_filename = f\"svm_train_data_{last_number}.dat\"\n",
    "            generated_data_to_AMPL(output_filename, A, y, train=True)\n",
    "        \n",
    "        else: \n",
    "            output_filename = f\"svm_test_data_{last_number}.dat\"\n",
    "            generated_data_to_AMPL(output_filename, A, y, train=False)"
   ]
  },
  {
   "cell_type": "code",
   "execution_count": 15,
   "metadata": {},
   "outputs": [],
   "source": [
    "# Processes train datasets of diferent sizes.\n",
    "file_names = ['svm_raw_train_data_100.dat', 'svm_raw_train_data_1000.dat', 'svm_raw_train_data_10000.dat']\n",
    "\n",
    "for file_name in file_names:\n",
    "    file_path = file_name\n",
    "    process_generated_data(file_path, train=True)"
   ]
  },
  {
   "cell_type": "code",
   "execution_count": null,
   "metadata": {},
   "outputs": [],
   "source": [
    "# Processes test datasets of diferent sizes.\n",
    "file_names = ['svm_raw_test_data_100.dat', 'svm_raw_test_data_1000.dat', 'svm_raw_test_data_10000.dat']\n",
    "\n",
    "for file_name in file_names:\n",
    "    file_path = file_name\n",
    "    process_generated_data(file_path, train=False)"
   ]
  }
 ],
 "metadata": {
  "kernelspec": {
   "display_name": "base",
   "language": "python",
   "name": "python3"
  },
  "language_info": {
   "codemirror_mode": {
    "name": "ipython",
    "version": 3
   },
   "file_extension": ".py",
   "mimetype": "text/x-python",
   "name": "python",
   "nbconvert_exporter": "python",
   "pygments_lexer": "ipython3",
   "version": "3.9.12"
  },
  "orig_nbformat": 4
 },
 "nbformat": 4,
 "nbformat_minor": 2
}
