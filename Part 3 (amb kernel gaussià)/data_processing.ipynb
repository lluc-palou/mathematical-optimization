{
 "cells": [
  {
   "cell_type": "code",
   "execution_count": 4,
   "metadata": {},
   "outputs": [],
   "source": [
    "from sklearn.datasets import make_swiss_roll\n",
    "from sklearn.model_selection import train_test_split\n",
    "\n",
    "def generate_and_split_data(test_size, n_samples, noise, random_state):\n",
    "    # Generate the Swiss roll dataset\n",
    "    X, _ = make_swiss_roll(n_samples=n_samples, noise=noise, random_state=random_state)\n",
    "\n",
    "    # Generate coherent labels\n",
    "    y = [-1 if x[0] < 5 else 1 for x in X]\n",
    "\n",
    "    # Perform train-test split\n",
    "    X_train, X_test, y_train, y_test = train_test_split(X, y, test_size=test_size, random_state=random_state)\n",
    "\n",
    "    return X_train, X_test, y_train, y_test\n",
    "\n",
    "# Usage example\n",
    "X_train, X_test, y_train, y_test = generate_and_split_data(test_size=0.5, n_samples=1000, noise=0.2, random_state=42)"
   ]
  },
  {
   "cell_type": "code",
   "execution_count": 5,
   "metadata": {},
   "outputs": [],
   "source": [
    "def generated_data_to_AMPL(file_path, A, y, train=True):\n",
    "    \"\"\"\n",
    "    Given a file name, the A matrix (points in space), and the y vector (labels), the training data processed using the above function,\n",
    "    this function generates the code to express these mathematical objects in AMPL format and stores them in a .dat file.\n",
    "    \"\"\"\n",
    "    m, n = A.shape  # Number of data points and number of features\n",
    "\n",
    "    with open(file_path, 'w') as file:\n",
    "        if train:\n",
    "            file.write(\"param nu := 1;\\n\")  # Definition of parameter nu.\n",
    "            file.write(\"param m := {};\\n\".format(m))  # Number of data points.\n",
    "            file.write(\"param n := {};\\n\".format(n))  # Number of features.\n",
    "            file.write(\"\\n\")\n",
    "\n",
    "            file.write(\"param A_train:\\n\")\n",
    "            file.write(\"\\t\")\n",
    "            file.write(\"\\t\".join(\"{}\".format(i+1) for i in range(n)))  # Column numeration\n",
    "            file.write(\" :=\\n\")\n",
    "\n",
    "            for i in range(m):\n",
    "                file.write(\"\\t\")\n",
    "                file.write(str(i+1))  # Row numeration\n",
    "                file.write(\"\\t\")\n",
    "                file.write(\"\\t\".join(\"{:.3f}\".format(A[i][j]) for j in range(n)))\n",
    "                file.write(\"\\n\")\n",
    "\n",
    "            file.write(\";\\n\")\n",
    "            file.write(\"\\n\")\n",
    "\n",
    "            file.write(\"param y_train :=\")\n",
    "            for i in range(m):\n",
    "                file.write(\"\\n\\t{} {:.3f}\".format(i + 1, y[i]))\n",
    "\n",
    "            file.write(\"\\n;\")\n",
    "\n",
    "        else:\n",
    "            file.write(\"param A_test:\\n\")\n",
    "            file.write(\"\\t\")\n",
    "            file.write(\"\\t\".join(\"{}\".format(i+1) for i in range(n)))  # Column numeration\n",
    "            file.write(\" :=\\n\")\n",
    "\n",
    "            for i in range(m):\n",
    "                file.write(\"\\t\")\n",
    "                file.write(str(i+1))  # Row numeration\n",
    "                file.write(\"\\t\")\n",
    "                file.write(\"\\t\".join(\"{:.3f}\".format(A[i][j]) for j in range(n)))\n",
    "                file.write(\"\\n\")\n",
    "\n",
    "            file.write(\";\\n\")\n",
    "            file.write(\"\\n\")\n",
    "\n",
    "            file.write(\"param y_test :=\")\n",
    "            for i in range(m):\n",
    "                file.write(\"\\n\\t{} {:.3f}\".format(i + 1, y[i]))\n",
    "\n",
    "            file.write(\"\\n;\")"
   ]
  },
  {
   "cell_type": "code",
   "execution_count": 6,
   "metadata": {},
   "outputs": [],
   "source": [
    "generated_data_to_AMPL('train.dat', X_train, y_train, train=True)\n",
    "generated_data_to_AMPL('test.dat', X_test, y_test, train=False)"
   ]
  }
 ],
 "metadata": {
  "kernelspec": {
   "display_name": "base",
   "language": "python",
   "name": "python3"
  },
  "language_info": {
   "codemirror_mode": {
    "name": "ipython",
    "version": 3
   },
   "file_extension": ".py",
   "mimetype": "text/x-python",
   "name": "python",
   "nbconvert_exporter": "python",
   "pygments_lexer": "ipython3",
   "version": "3.9.12"
  },
  "orig_nbformat": 4
 },
 "nbformat": 4,
 "nbformat_minor": 2
}
